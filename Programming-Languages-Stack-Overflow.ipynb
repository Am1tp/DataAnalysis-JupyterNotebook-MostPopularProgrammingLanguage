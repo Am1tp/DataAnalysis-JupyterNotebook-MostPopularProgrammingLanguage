{
 "cells": [
  {
   "cell_type": "markdown",
   "id": "82599110-1f25-4994-8b89-eec54f94d13c",
   "metadata": {},
   "source": [
    "# StackOverflow Queries Jul 2008 - Jul 2020 dataset\n",
    "\n",
    "- This dataset was made using a query to count the number of posts on Stack Overflow tagged with each programming language\n",
    "- Below is a snapshot of the first 5 rows of data:"
   ]
  },
  {
   "cell_type": "code",
   "execution_count": 12,
   "id": "4e861b40-6f21-4350-a064-267091689208",
   "metadata": {},
   "outputs": [
    {
     "data": {
      "text/html": [
       "<div>\n",
       "<style scoped>\n",
       "    .dataframe tbody tr th:only-of-type {\n",
       "        vertical-align: middle;\n",
       "    }\n",
       "\n",
       "    .dataframe tbody tr th {\n",
       "        vertical-align: top;\n",
       "    }\n",
       "\n",
       "    .dataframe thead th {\n",
       "        text-align: right;\n",
       "    }\n",
       "</style>\n",
       "<table border=\"1\" class=\"dataframe\">\n",
       "  <thead>\n",
       "    <tr style=\"text-align: right;\">\n",
       "      <th></th>\n",
       "      <th>m</th>\n",
       "      <th>TagName</th>\n",
       "      <th>Unnamed: 2</th>\n",
       "    </tr>\n",
       "  </thead>\n",
       "  <tbody>\n",
       "    <tr>\n",
       "      <th>0</th>\n",
       "      <td>2008-07-01 00:00:00</td>\n",
       "      <td>c#</td>\n",
       "      <td>3</td>\n",
       "    </tr>\n",
       "    <tr>\n",
       "      <th>1</th>\n",
       "      <td>2008-08-01 00:00:00</td>\n",
       "      <td>assembly</td>\n",
       "      <td>8</td>\n",
       "    </tr>\n",
       "    <tr>\n",
       "      <th>2</th>\n",
       "      <td>2008-08-01 00:00:00</td>\n",
       "      <td>javascript</td>\n",
       "      <td>162</td>\n",
       "    </tr>\n",
       "    <tr>\n",
       "      <th>3</th>\n",
       "      <td>2008-08-01 00:00:00</td>\n",
       "      <td>c</td>\n",
       "      <td>85</td>\n",
       "    </tr>\n",
       "    <tr>\n",
       "      <th>4</th>\n",
       "      <td>2008-08-01 00:00:00</td>\n",
       "      <td>python</td>\n",
       "      <td>124</td>\n",
       "    </tr>\n",
       "  </tbody>\n",
       "</table>\n",
       "</div>"
      ],
      "text/plain": [
       "                     m     TagName  Unnamed: 2\n",
       "0  2008-07-01 00:00:00          c#           3\n",
       "1  2008-08-01 00:00:00    assembly           8\n",
       "2  2008-08-01 00:00:00  javascript         162\n",
       "3  2008-08-01 00:00:00           c          85\n",
       "4  2008-08-01 00:00:00      python         124"
      ]
     },
     "execution_count": 12,
     "metadata": {},
     "output_type": "execute_result"
    }
   ],
   "source": [
    "import pandas as pd\n",
    "df = pd.read_csv('QueryResults.csv')\n",
    "df.head(5)"
   ]
  },
  {
   "cell_type": "code",
   "execution_count": null,
   "id": "79a62d0b-9e97-4956-8161-19c87ac4de61",
   "metadata": {},
   "outputs": [],
   "source": []
  }
 ],
 "metadata": {
  "kernelspec": {
   "display_name": "Python 3 (ipykernel)",
   "language": "python",
   "name": "python3"
  },
  "language_info": {
   "codemirror_mode": {
    "name": "ipython",
    "version": 3
   },
   "file_extension": ".py",
   "mimetype": "text/x-python",
   "name": "python",
   "nbconvert_exporter": "python",
   "pygments_lexer": "ipython3",
   "version": "3.12.4"
  }
 },
 "nbformat": 4,
 "nbformat_minor": 5
}
